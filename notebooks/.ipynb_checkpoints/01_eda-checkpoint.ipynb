{
 "cells": [
  {
   "cell_type": "code",
   "execution_count": null,
   "id": "c278d171-6d82-4d47-bf21-6df40e887d8d",
   "metadata": {},
   "outputs": [],
   "source": [
    "# Import libraries \n",
    "import pandas as pd \n",
    "import matplotlib.pyplot as plt\n",
    "import seaborn as sns\n",
    "import os"
   ]
  },
  {
   "cell_type": "code",
   "execution_count": null,
   "id": "22242e37-803a-4998-a78d-d7083c596794",
   "metadata": {},
   "outputs": [],
   "source": [
    "# Import Python Image Library\n",
    "from PIL import Image "
   ]
  },
  {
   "cell_type": "code",
   "execution_count": null,
   "id": "1790fe28-5d50-4c6e-a034-6ff3179ea963",
   "metadata": {},
   "outputs": [],
   "source": [
    "train_data = pd.read_csv(\"F:/2025/deep-learning-project/aravind_data/train.csv\")"
   ]
  },
  {
   "cell_type": "code",
   "execution_count": null,
   "id": "5f4ee2ba-7e8c-4637-be68-9fb393e744c7",
   "metadata": {},
   "outputs": [],
   "source": [
    "train_data.head()"
   ]
  },
  {
   "cell_type": "code",
   "execution_count": null,
   "id": "8fab072d-0489-4e62-8581-4c2b5b990c7f",
   "metadata": {},
   "outputs": [],
   "source": [
    "train_data.tail()"
   ]
  },
  {
   "cell_type": "code",
   "execution_count": null,
   "id": "ba3d5a47-8038-4da0-880a-40062918a6a6",
   "metadata": {},
   "outputs": [],
   "source": [
    "train_data.describe()"
   ]
  },
  {
   "cell_type": "code",
   "execution_count": null,
   "id": "d0666f70-51c4-4f34-a111-81b3c447c81b",
   "metadata": {},
   "outputs": [],
   "source": [
    "train_data.info()"
   ]
  },
  {
   "cell_type": "code",
   "execution_count": null,
   "id": "3b7cf67b-17fa-4e30-80ff-9a10a4c6e9c8",
   "metadata": {},
   "outputs": [],
   "source": [
    "# Class distribution\n",
    "sns.countplot(x='diagnosis', data=train_data)\n",
    "plt.title('Class Distribution (DR Levels)')\n",
    "plt.xlabel('DR Severity (0–4)')\n",
    "plt.ylabel('Count')\n",
    "plt.show()\n"
   ]
  },
  {
   "cell_type": "code",
   "execution_count": null,
   "id": "5c18471f-f5ef-40c3-85f2-f550fa7fdf04",
   "metadata": {},
   "outputs": [],
   "source": [
    "fig, ax = plt.subplots(1, 5, figsize=(20, 5))"
   ]
  },
  {
   "cell_type": "code",
   "execution_count": null,
   "id": "6704c3eb-1410-4fe4-b4e6-84753d4827af",
   "metadata": {},
   "outputs": [],
   "source": [
    "plt.subplot(1, 2, 2)"
   ]
  },
  {
   "cell_type": "code",
   "execution_count": null,
   "id": "477a609c-f4f2-4e5c-b786-622d4a74fddf",
   "metadata": {},
   "outputs": [],
   "source": [
    "plt.figure()\n",
    "\n",
    "# First subplot (1st of 2)\n",
    "plt.subplot(1, 2, 1)\n",
    "plt.plot([1, 2, 3], [1, 4, 9])\n",
    "plt.title(\"Plot 1\")\n",
    "\n",
    "# Second subplot (2nd of 2)\n",
    "plt.subplot(1, 2, 2)\n",
    "plt.plot([1, 2, 3], [9, 4, 1])\n",
    "plt.title(\"Plot 2\")\n",
    "\n",
    "plt.tight_layout()\n",
    "plt.show()"
   ]
  },
  {
   "cell_type": "code",
   "execution_count": null,
   "id": "24387adf-ff92-41be-9fa9-2b0b3f2efaab",
   "metadata": {},
   "outputs": [],
   "source": [
    "# Preview images\n",
    "sample = train_data.sample(5)\n",
    "fig, ax = plt.subplots(1, 5, figsize=(20, 5))\n",
    "for i, row in enumerate(sample.iterrows()):\n",
    "    img = Image.open(f\"../aravind_data/train_images/{row[1]['id_code']}.png\")\n",
    "    ax[i].imshow(img)\n",
    "    ax[i].set_title(f\"Label: {row[1]['diagnosis']}\")\n",
    "    ax[i].axis('off')\n"
   ]
  },
  {
   "cell_type": "code",
   "execution_count": null,
   "id": "0d3b5f68-c857-4643-b50b-35fdb2aee4a1",
   "metadata": {},
   "outputs": [],
   "source": [
    "train_data.shape"
   ]
  },
  {
   "cell_type": "code",
   "execution_count": null,
   "id": "83aba73d-c0be-4ea7-bda3-7e3b9858cff0",
   "metadata": {},
   "outputs": [],
   "source": [
    "train_data.isnull().sum()"
   ]
  },
  {
   "cell_type": "code",
   "execution_count": null,
   "id": "6037d0b9-8f7b-420f-9f72-258fb4b55212",
   "metadata": {},
   "outputs": [],
   "source": [
    "import sys"
   ]
  },
  {
   "cell_type": "code",
   "execution_count": null,
   "id": "f3c8fb30-6ed7-454f-81f1-a9763de6d871",
   "metadata": {},
   "outputs": [],
   "source": [
    "# Change directory to the project root folder\n",
    "os.chdir(r'F:\\2025\\deep-learning-project')"
   ]
  },
  {
   "cell_type": "code",
   "execution_count": null,
   "id": "9b4d87a4-3022-48ef-8540-4b1e7bc4b657",
   "metadata": {},
   "outputs": [],
   "source": [
    "import sys\n",
    "import os\n",
    "\n",
    "# Add project root directory to Python path\n",
    "project_root = os.path.abspath(os.path.join(os.getcwd(), '..'))\n",
    "if project_root not in sys.path:\n",
    "    sys.path.append(project_root)\n",
    "\n"
   ]
  },
  {
   "cell_type": "code",
   "execution_count": null,
   "id": "33f66ef0-f6a6-4eb9-89fa-e80c4ca327f0",
   "metadata": {},
   "outputs": [],
   "source": [
    "from pathlib import Path\n",
    "sys.path.append(str(Path('F:/2025/deep-learning-project')))"
   ]
  },
  {
   "cell_type": "code",
   "execution_count": null,
   "id": "fae12b1f-a4df-4b8c-81aa-7f2c8c58c00e",
   "metadata": {},
   "outputs": [],
   "source": [
    "sys.path.append('F:/2025/deep-learning-project')"
   ]
  },
  {
   "cell_type": "code",
   "execution_count": null,
   "id": "a314c9c7-29dc-47f1-9bb1-12af57272947",
   "metadata": {},
   "outputs": [],
   "source": [
    "import os\n",
    "print(os.getcwd())\n"
   ]
  },
  {
   "cell_type": "code",
   "execution_count": 1,
   "id": "bc721d13-c185-4ad3-8de4-4dd231a98ae0",
   "metadata": {},
   "outputs": [],
   "source": [
    "import sys\n",
    "import os"
   ]
  },
  {
   "cell_type": "code",
   "execution_count": 7,
   "id": "f3d6d943-377f-4f40-b538-e9288bba9a9f",
   "metadata": {},
   "outputs": [
    {
     "name": "stdout",
     "output_type": "stream",
     "text": [
      "Requirement already satisfied: torchvision in c:\\users\\zumqu\\anaconda3\\envs\\dl-gpu\\lib\\site-packages (0.20.1)\n",
      "Requirement already satisfied: numpy in c:\\users\\zumqu\\anaconda3\\envs\\dl-gpu\\lib\\site-packages (from torchvision) (2.0.1)\n",
      "Requirement already satisfied: torch==2.5.1 in c:\\users\\zumqu\\anaconda3\\envs\\dl-gpu\\lib\\site-packages (from torchvision) (2.5.1)\n",
      "Requirement already satisfied: pillow!=8.3.*,>=5.3.0 in c:\\users\\zumqu\\anaconda3\\envs\\dl-gpu\\lib\\site-packages (from torchvision) (11.1.0)\n",
      "Requirement already satisfied: filelock in c:\\users\\zumqu\\anaconda3\\envs\\dl-gpu\\lib\\site-packages (from torch==2.5.1->torchvision) (3.17.0)\n",
      "Requirement already satisfied: typing-extensions>=4.8.0 in c:\\users\\zumqu\\anaconda3\\envs\\dl-gpu\\lib\\site-packages (from torch==2.5.1->torchvision) (4.12.2)\n",
      "Requirement already satisfied: networkx in c:\\users\\zumqu\\anaconda3\\envs\\dl-gpu\\lib\\site-packages (from torch==2.5.1->torchvision) (3.4.2)\n",
      "Requirement already satisfied: jinja2 in c:\\users\\zumqu\\anaconda3\\envs\\dl-gpu\\lib\\site-packages (from torch==2.5.1->torchvision) (3.1.6)\n",
      "Requirement already satisfied: fsspec in c:\\users\\zumqu\\anaconda3\\envs\\dl-gpu\\lib\\site-packages (from torch==2.5.1->torchvision) (2025.5.1)\n",
      "Requirement already satisfied: sympy==1.13.1 in c:\\users\\zumqu\\anaconda3\\envs\\dl-gpu\\lib\\site-packages (from torch==2.5.1->torchvision) (1.13.1)\n",
      "Requirement already satisfied: mpmath<1.4,>=1.1.0 in c:\\users\\zumqu\\anaconda3\\envs\\dl-gpu\\lib\\site-packages (from sympy==1.13.1->torch==2.5.1->torchvision) (1.3.0)\n",
      "Requirement already satisfied: MarkupSafe>=2.0 in c:\\users\\zumqu\\anaconda3\\envs\\dl-gpu\\lib\\site-packages (from jinja2->torch==2.5.1->torchvision) (3.0.2)\n"
     ]
    }
   ],
   "source": [
    "!pip install torchvision"
   ]
  },
  {
   "cell_type": "code",
   "execution_count": 4,
   "id": "23218cba-7383-46c6-89d7-3ef1b09cedb1",
   "metadata": {},
   "outputs": [
    {
     "name": "stdout",
     "output_type": "stream",
     "text": [
      "Name: torch\n",
      "Version: 2.5.1\n",
      "Summary: Tensors and Dynamic neural networks in Python with strong GPU acceleration\n",
      "Home-page: https://pytorch.org/\n",
      "Author: PyTorch Team\n",
      "Author-email: packages@pytorch.org\n",
      "License: BSD-3-Clause\n",
      "Location: c:\\users\\zumqu\\anaconda3\\envs\\dl-gpu\\lib\\site-packages\n",
      "Requires: filelock, fsspec, jinja2, networkx, sympy, typing-extensions\n",
      "Required-by: torchaudio, torchvision\n"
     ]
    }
   ],
   "source": [
    "!pip show torch"
   ]
  },
  {
   "cell_type": "code",
   "execution_count": 2,
   "id": "5dfb9f5d-45ec-4c3f-b5fb-073f59adc6df",
   "metadata": {},
   "outputs": [],
   "source": [
    "sys.path.append(os.path.abspath(os.path.join(os.getcwd(), '..')))"
   ]
  },
  {
   "cell_type": "code",
   "execution_count": 1,
   "id": "9bad95d1-2063-4c57-aa5d-060f49af0370",
   "metadata": {},
   "outputs": [
    {
     "ename": "ModuleNotFoundError",
     "evalue": "No module named 'torchvision'",
     "output_type": "error",
     "traceback": [
      "\u001b[1;31m---------------------------------------------------------------------------\u001b[0m",
      "\u001b[1;31mModuleNotFoundError\u001b[0m                       Traceback (most recent call last)",
      "Cell \u001b[1;32mIn[1], line 1\u001b[0m\n\u001b[1;32m----> 1\u001b[0m \u001b[38;5;28;01mfrom\u001b[39;00m \u001b[38;5;21;01mtorchvision\u001b[39;00m \u001b[38;5;28;01mimport\u001b[39;00m models\n",
      "\u001b[1;31mModuleNotFoundError\u001b[0m: No module named 'torchvision'"
     ]
    }
   ],
   "source": [
    "from torchvision import models\n"
   ]
  },
  {
   "cell_type": "code",
   "execution_count": 6,
   "id": "77b57104-3ed2-4e9f-a75f-e39829e2c061",
   "metadata": {},
   "outputs": [
    {
     "ename": "ModuleNotFoundError",
     "evalue": "No module named 'torchvision'",
     "output_type": "error",
     "traceback": [
      "\u001b[1;31m---------------------------------------------------------------------------\u001b[0m",
      "\u001b[1;31mModuleNotFoundError\u001b[0m                       Traceback (most recent call last)",
      "Cell \u001b[1;32mIn[6], line 4\u001b[0m\n\u001b[0;32m      2\u001b[0m \u001b[38;5;28;01mfrom\u001b[39;00m \u001b[38;5;21;01mtorch\u001b[39;00m \u001b[38;5;28;01mimport\u001b[39;00m nn, optim\n\u001b[0;32m      3\u001b[0m \u001b[38;5;28;01mfrom\u001b[39;00m \u001b[38;5;21;01mtorch\u001b[39;00m\u001b[38;5;21;01m.\u001b[39;00m\u001b[38;5;21;01mutils\u001b[39;00m\u001b[38;5;21;01m.\u001b[39;00m\u001b[38;5;21;01mdata\u001b[39;00m \u001b[38;5;28;01mimport\u001b[39;00m DataLoader\n\u001b[1;32m----> 4\u001b[0m \u001b[38;5;28;01mfrom\u001b[39;00m \u001b[38;5;21;01msrc\u001b[39;00m\u001b[38;5;21;01m.\u001b[39;00m\u001b[38;5;21;01mmodels\u001b[39;00m \u001b[38;5;28;01mimport\u001b[39;00m get_model\n\u001b[0;32m      5\u001b[0m \u001b[38;5;28;01mfrom\u001b[39;00m \u001b[38;5;21;01mtorchvision\u001b[39;00m \u001b[38;5;28;01mimport\u001b[39;00m models\n",
      "File \u001b[1;32mF:\\2025\\deep-learning-project\\src\\models.py:2\u001b[0m\n\u001b[0;32m      1\u001b[0m \u001b[38;5;28;01mimport\u001b[39;00m \u001b[38;5;21;01mtorch\u001b[39;00m\u001b[38;5;21;01m.\u001b[39;00m\u001b[38;5;21;01mnn\u001b[39;00m \u001b[38;5;28;01mas\u001b[39;00m \u001b[38;5;21;01mnn\u001b[39;00m\n\u001b[1;32m----> 2\u001b[0m \u001b[38;5;28;01mfrom\u001b[39;00m \u001b[38;5;21;01mtorchvision\u001b[39;00m \u001b[38;5;28;01mimport\u001b[39;00m models\n\u001b[0;32m      4\u001b[0m \u001b[38;5;28;01mdef\u001b[39;00m \u001b[38;5;21mget_model\u001b[39m(model_name\u001b[38;5;241m=\u001b[39m\u001b[38;5;124m'\u001b[39m\u001b[38;5;124mmobilenet\u001b[39m\u001b[38;5;124m'\u001b[39m):\n\u001b[0;32m      5\u001b[0m     \u001b[38;5;28;01mif\u001b[39;00m model_name \u001b[38;5;241m==\u001b[39m \u001b[38;5;124m'\u001b[39m\u001b[38;5;124mmobilenet\u001b[39m\u001b[38;5;124m'\u001b[39m:\n",
      "\u001b[1;31mModuleNotFoundError\u001b[0m: No module named 'torchvision'"
     ]
    }
   ],
   "source": [
    "import torch\n",
    "from torch import nn, optim\n",
    "from torch.utils.data import DataLoader\n",
    "from src.models import get_model"
   ]
  },
  {
   "cell_type": "code",
   "execution_count": null,
   "id": "0f73c25e-5db0-4213-a2ab-9833f840db36",
   "metadata": {},
   "outputs": [],
   "source": [
    "print(model.classifier)"
   ]
  },
  {
   "cell_type": "code",
   "execution_count": null,
   "id": "56e42085-fff8-4287-aea6-45c750f4a551",
   "metadata": {},
   "outputs": [],
   "source": []
  }
 ],
 "metadata": {
  "kernelspec": {
   "display_name": "Python 3 (ipykernel)",
   "language": "python",
   "name": "python3"
  },
  "language_info": {
   "codemirror_mode": {
    "name": "ipython",
    "version": 3
   },
   "file_extension": ".py",
   "mimetype": "text/x-python",
   "name": "python",
   "nbconvert_exporter": "python",
   "pygments_lexer": "ipython3",
   "version": "3.11.4"
  }
 },
 "nbformat": 4,
 "nbformat_minor": 5
}

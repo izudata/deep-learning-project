{
 "cells": [
  {
   "cell_type": "code",
   "execution_count": null,
   "id": "9d6dfb5f-960a-4b32-ac6d-57a6a872f065",
   "metadata": {},
   "outputs": [],
   "source": [
    "!pip install pandas "
   ]
  },
  {
   "cell_type": "code",
   "execution_count": null,
   "id": "4246b8ed-efe4-405e-8631-319ec9e5539e",
   "metadata": {},
   "outputs": [],
   "source": [
    "!pip install matplotlib "
   ]
  },
  {
   "cell_type": "code",
   "execution_count": null,
   "id": "3f3bb4d9-b4ae-4e22-9cc0-1a4926f9b526",
   "metadata": {},
   "outputs": [],
   "source": [
    "!pip install seaborn "
   ]
  },
  {
   "cell_type": "code",
   "execution_count": null,
   "id": "c278d171-6d82-4d47-bf21-6df40e887d8d",
   "metadata": {},
   "outputs": [],
   "source": [
    "# Import libraries \n",
    "import pandas as pd \n",
    "import matplotlib.pyplot as plt\n",
    "import seaborn as sns\n",
    "import os"
   ]
  },
  {
   "cell_type": "code",
   "execution_count": null,
   "id": "22242e37-803a-4998-a78d-d7083c596794",
   "metadata": {},
   "outputs": [],
   "source": [
    "# Import Python Image Library\n",
    "from PIL import Image "
   ]
  },
  {
   "cell_type": "code",
   "execution_count": null,
   "id": "1790fe28-5d50-4c6e-a034-6ff3179ea963",
   "metadata": {},
   "outputs": [],
   "source": [
    "train_data = pd.read_csv(\"F:/2025/deep-learning-project/aravind_data/train.csv\")"
   ]
  },
  {
   "cell_type": "code",
   "execution_count": null,
   "id": "5f4ee2ba-7e8c-4637-be68-9fb393e744c7",
   "metadata": {},
   "outputs": [],
   "source": [
    "train_data.head()"
   ]
  },
  {
   "cell_type": "code",
   "execution_count": null,
   "id": "8fab072d-0489-4e62-8581-4c2b5b990c7f",
   "metadata": {},
   "outputs": [],
   "source": [
    "train_data.tail()"
   ]
  },
  {
   "cell_type": "code",
   "execution_count": null,
   "id": "ba3d5a47-8038-4da0-880a-40062918a6a6",
   "metadata": {},
   "outputs": [],
   "source": [
    "train_data.describe()"
   ]
  },
  {
   "cell_type": "code",
   "execution_count": null,
   "id": "d0666f70-51c4-4f34-a111-81b3c447c81b",
   "metadata": {},
   "outputs": [],
   "source": [
    "train_data.info()"
   ]
  },
  {
   "cell_type": "code",
   "execution_count": null,
   "id": "3b7cf67b-17fa-4e30-80ff-9a10a4c6e9c8",
   "metadata": {},
   "outputs": [],
   "source": [
    "# Class distribution\n",
    "sns.countplot(x='diagnosis', data=train_data)\n",
    "plt.title('Class Distribution (DR Levels)')\n",
    "plt.xlabel('DR Severity (0–4)')\n",
    "plt.ylabel('Count')\n",
    "plt.show()\n"
   ]
  },
  {
   "cell_type": "code",
   "execution_count": null,
   "id": "5c18471f-f5ef-40c3-85f2-f550fa7fdf04",
   "metadata": {},
   "outputs": [],
   "source": [
    "# fig, ax = plt.subplots(1, 5, figsize=(20, 5))"
   ]
  },
  {
   "cell_type": "code",
   "execution_count": null,
   "id": "6704c3eb-1410-4fe4-b4e6-84753d4827af",
   "metadata": {},
   "outputs": [],
   "source": [
    "# plt.subplot(1, 2, 2)"
   ]
  },
  {
   "cell_type": "code",
   "execution_count": null,
   "id": "477a609c-f4f2-4e5c-b786-622d4a74fddf",
   "metadata": {},
   "outputs": [],
   "source": [
    "# plt.figure()\n",
    "\n",
    "# # First subplot (1st of 2)\n",
    "# plt.subplot(1, 2, 1)\n",
    "# plt.plot([1, 2, 3], [1, 4, 9])\n",
    "# plt.title(\"Plot 1\")\n",
    "\n",
    "# # Second subplot (2nd of 2)\n",
    "# plt.subplot(1, 2, 2)\n",
    "# plt.plot([1, 2, 3], [9, 4, 1])\n",
    "# plt.title(\"Plot 2\")\n",
    "\n",
    "# plt.tight_layout()\n",
    "# plt.show()"
   ]
  },
  {
   "cell_type": "code",
   "execution_count": null,
   "id": "24387adf-ff92-41be-9fa9-2b0b3f2efaab",
   "metadata": {},
   "outputs": [],
   "source": [
    "# Preview images\n",
    "sample = train_data.sample(5)\n",
    "fig, ax = plt.subplots(1, 5, figsize=(20, 5))\n",
    "for i, row in enumerate(sample.iterrows()):\n",
    "    img = Image.open(f\"../aravind_data/train_images/{row[1]['id_code']}.png\")\n",
    "    ax[i].imshow(img)\n",
    "    ax[i].set_title(f\"Label: {row[1]['diagnosis']}\")\n",
    "    ax[i].axis('off')\n"
   ]
  },
  {
   "cell_type": "code",
   "execution_count": null,
   "id": "0d3b5f68-c857-4643-b50b-35fdb2aee4a1",
   "metadata": {},
   "outputs": [],
   "source": [
    "train_data.shape"
   ]
  },
  {
   "cell_type": "code",
   "execution_count": null,
   "id": "83aba73d-c0be-4ea7-bda3-7e3b9858cff0",
   "metadata": {},
   "outputs": [],
   "source": [
    "train_data.isnull().sum()"
   ]
  },
  {
   "cell_type": "code",
   "execution_count": null,
   "id": "6037d0b9-8f7b-420f-9f72-258fb4b55212",
   "metadata": {},
   "outputs": [],
   "source": [
    "import sys\n",
    "import os"
   ]
  },
  {
   "cell_type": "code",
   "execution_count": null,
   "id": "1bcf15c8-c81b-4841-ae25-94b4c05d9045",
   "metadata": {},
   "outputs": [],
   "source": [
    "print(os.getcwd())"
   ]
  },
  {
   "cell_type": "code",
   "execution_count": null,
   "id": "f3c8fb30-6ed7-454f-81f1-a9763de6d871",
   "metadata": {},
   "outputs": [],
   "source": [
    "# Change directory to the project root folder\n",
    "os.chdir(r'F:\\2025\\deep-learning-project')"
   ]
  },
  {
   "cell_type": "code",
   "execution_count": null,
   "id": "9b4d87a4-3022-48ef-8540-4b1e7bc4b657",
   "metadata": {},
   "outputs": [],
   "source": [
    "# Add project root directory to Python path\n",
    "# project_root = os.path.abspath(os.path.join(os.getcwd(), '..'))\n",
    "# if project_root not in sys.path:\n",
    "#     sys.path.append(project_root)\n",
    "\n"
   ]
  },
  {
   "cell_type": "code",
   "execution_count": null,
   "id": "33f66ef0-f6a6-4eb9-89fa-e80c4ca327f0",
   "metadata": {},
   "outputs": [],
   "source": [
    "# from pathlib import Path\n",
    "# sys.path.append(str(Path('F:/2025/deep-learning-project')))"
   ]
  },
  {
   "cell_type": "code",
   "execution_count": null,
   "id": "fae12b1f-a4df-4b8c-81aa-7f2c8c58c00e",
   "metadata": {},
   "outputs": [],
   "source": [
    "sys.path.append('F:/2025/deep-learning-project')"
   ]
  },
  {
   "cell_type": "code",
   "execution_count": null,
   "id": "bc721d13-c185-4ad3-8de4-4dd231a98ae0",
   "metadata": {},
   "outputs": [],
   "source": [
    "print(os.getcwd())"
   ]
  },
  {
   "cell_type": "code",
   "execution_count": null,
   "id": "f3d6d943-377f-4f40-b538-e9288bba9a9f",
   "metadata": {},
   "outputs": [],
   "source": [
    "!pip install torchvision"
   ]
  },
  {
   "cell_type": "code",
   "execution_count": null,
   "id": "23218cba-7383-46c6-89d7-3ef1b09cedb1",
   "metadata": {},
   "outputs": [],
   "source": [
    "!pip show torch"
   ]
  },
  {
   "cell_type": "code",
   "execution_count": null,
   "id": "5dfb9f5d-45ec-4c3f-b5fb-073f59adc6df",
   "metadata": {},
   "outputs": [],
   "source": [
    "sys.path.append(os.path.abspath(os.path.join(os.getcwd(), '..')))"
   ]
  },
  {
   "cell_type": "code",
   "execution_count": null,
   "id": "27562a1a-6675-44f9-b4ad-fdd5376ff961",
   "metadata": {},
   "outputs": [],
   "source": [
    "import numpy as np\n",
    "print(np.__version__)"
   ]
  },
  {
   "cell_type": "code",
   "execution_count": null,
   "id": "89c81d01-d077-45f0-a491-94046a84fb0b",
   "metadata": {},
   "outputs": [],
   "source": [
    "from torchvision import models"
   ]
  },
  {
   "cell_type": "code",
   "execution_count": null,
   "id": "77b57104-3ed2-4e9f-a75f-e39829e2c061",
   "metadata": {},
   "outputs": [],
   "source": [
    "import torch\n",
    "from torch import nn, optim\n",
    "from torch.utils.data import DataLoader\n",
    "from src.models import get_model"
   ]
  },
  {
   "cell_type": "code",
   "execution_count": null,
   "id": "0f73c25e-5db0-4213-a2ab-9833f840db36",
   "metadata": {},
   "outputs": [],
   "source": [
    "model = get_model('mobilenet')  # or 'efficientnet'\n",
    "print(model.classifier)"
   ]
  },
  {
   "cell_type": "code",
   "execution_count": null,
   "id": "56e42085-fff8-4287-aea6-45c750f4a551",
   "metadata": {},
   "outputs": [],
   "source": [
    "!where python\n",
    "!python -m site"
   ]
  },
  {
   "cell_type": "code",
   "execution_count": null,
   "id": "9b6fe0d7-675e-4941-9d40-2404561fbcb8",
   "metadata": {},
   "outputs": [],
   "source": [
    "!where python"
   ]
  },
  {
   "cell_type": "code",
   "execution_count": null,
   "id": "837b64ae-072f-4dd4-b3ee-4221310dbaf9",
   "metadata": {},
   "outputs": [],
   "source": []
  }
 ],
 "metadata": {
  "kernelspec": {
   "display_name": "dl-gpu",
   "language": "python",
   "name": "dl-gpu"
  },
  "language_info": {
   "codemirror_mode": {
    "name": "ipython",
    "version": 3
   },
   "file_extension": ".py",
   "mimetype": "text/x-python",
   "name": "python",
   "nbconvert_exporter": "python",
   "pygments_lexer": "ipython3",
   "version": "3.10.16"
  }
 },
 "nbformat": 4,
 "nbformat_minor": 5
}
